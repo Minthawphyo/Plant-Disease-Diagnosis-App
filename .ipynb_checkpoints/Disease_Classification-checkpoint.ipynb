{
 "cells": [
  {
   "cell_type": "code",
   "execution_count": 1,
   "id": "b4a4f1d7-a1bf-4da4-a5c8-dea562551e71",
   "metadata": {},
   "outputs": [],
   "source": [
    "import tensorflow as tf\n",
    "from tensorflow.keras import models,layers"
   ]
  },
  {
   "cell_type": "code",
   "execution_count": 2,
   "id": "f1d0c4f5-92de-4ce3-ad09-ec744ab1eb1c",
   "metadata": {},
   "outputs": [],
   "source": [
    "Image_Size=256\n",
    "Batch_Size=32"
   ]
  },
  {
   "cell_type": "code",
   "execution_count": 3,
   "id": "ec9c1956-aaec-41e3-becc-6409bc641f25",
   "metadata": {},
   "outputs": [
    {
     "name": "stdout",
     "output_type": "stream",
     "text": [
      "Found 20638 files belonging to 15 classes.\n"
     ]
    }
   ],
   "source": [
    "dataset=tf.keras.preprocessing.image_dataset_from_directory(\n",
    "    \"dataset/PlantVillage\",\n",
    "    shuffle=True,\n",
    "    image_size=(Image_Size,Image_Size),\n",
    "    batch_size=Batch_Size\n",
    ")\n",
    "    "
   ]
  },
  {
   "cell_type": "code",
   "execution_count": 4,
   "id": "910050c5-3610-4cc2-8be3-508f1a5caab9",
   "metadata": {},
   "outputs": [],
   "source": [
    "class_names=dataset.class_names"
   ]
  },
  {
   "cell_type": "code",
   "execution_count": 5,
   "id": "b8a54489-362b-4390-bb6d-02481011f8c8",
   "metadata": {},
   "outputs": [
    {
     "data": {
      "text/plain": [
       "['Pepper__bell___Bacterial_spot',\n",
       " 'Pepper__bell___healthy',\n",
       " 'Potato___Early_blight',\n",
       " 'Potato___Late_blight',\n",
       " 'Potato___healthy',\n",
       " 'Tomato_Bacterial_spot',\n",
       " 'Tomato_Early_blight',\n",
       " 'Tomato_Late_blight',\n",
       " 'Tomato_Leaf_Mold',\n",
       " 'Tomato_Septoria_leaf_spot',\n",
       " 'Tomato_Spider_mites_Two_spotted_spider_mite',\n",
       " 'Tomato__Target_Spot',\n",
       " 'Tomato__Tomato_YellowLeaf__Curl_Virus',\n",
       " 'Tomato__Tomato_mosaic_virus',\n",
       " 'Tomato_healthy']"
      ]
     },
     "execution_count": 5,
     "metadata": {},
     "output_type": "execute_result"
    }
   ],
   "source": [
    "class_names"
   ]
  },
  {
   "cell_type": "code",
   "execution_count": 6,
   "id": "7a113392-5edf-49ab-a8c1-798ba486a629",
   "metadata": {},
   "outputs": [
    {
     "data": {
      "text/plain": [
       "645"
      ]
     },
     "execution_count": 6,
     "metadata": {},
     "output_type": "execute_result"
    }
   ],
   "source": [
    "len(dataset)"
   ]
  },
  {
   "cell_type": "code",
   "execution_count": 7,
   "id": "72c9bd39-02de-4329-a659-1c2970120202",
   "metadata": {},
   "outputs": [
    {
     "ename": "SyntaxError",
     "evalue": "incomplete input (3013143814.py, line 2)",
     "output_type": "error",
     "traceback": [
      "\u001b[1;36m  Cell \u001b[1;32mIn[7], line 2\u001b[1;36m\u001b[0m\n\u001b[1;33m    \u001b[0m\n\u001b[1;37m    ^\u001b[0m\n\u001b[1;31mSyntaxError\u001b[0m\u001b[1;31m:\u001b[0m incomplete input\n"
     ]
    }
   ],
   "source": [
    "def train_test_split(df,train_split=0.8,test_split=0.1,val_split=0.1,shiffle=True,shuffle_size=1000):\n",
    "    df_size=len(df)\n",
    "    if shuffle:\n",
    "        df=df.shuffle(shuffle_size,seed=32)\n",
    "        \n",
    "    train_size=df_size * train_split\n",
    "    test_size=df_size * test_split\n",
    "    val_size=df_size * val_split\n",
    "\n",
    "    train_df=df.take(train_size)\n",
    "    val_df=df.skip(train_size).take(val_size)\n",
    "    test_df=df.skip(train_size).take(test_size)\n",
    "    \n",
    "    return train_df,val_df,test_df"
   ]
  },
  {
   "cell_type": "code",
   "execution_count": null,
   "id": "3672da86-099e-4cb7-a1c2-757e68a2d369",
   "metadata": {},
   "outputs": [],
   "source": []
  }
 ],
 "metadata": {
  "kernelspec": {
   "display_name": "Python 3 (ipykernel)",
   "language": "python",
   "name": "python3"
  },
  "language_info": {
   "codemirror_mode": {
    "name": "ipython",
    "version": 3
   },
   "file_extension": ".py",
   "mimetype": "text/x-python",
   "name": "python",
   "nbconvert_exporter": "python",
   "pygments_lexer": "ipython3",
   "version": "3.10.13"
  }
 },
 "nbformat": 4,
 "nbformat_minor": 5
}
